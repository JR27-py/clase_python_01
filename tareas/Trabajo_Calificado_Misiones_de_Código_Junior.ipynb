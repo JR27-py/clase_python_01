{
  "nbformat": 4,
  "nbformat_minor": 0,
  "metadata": {
    "colab": {
      "provenance": [],
      "include_colab_link": true
    },
    "kernelspec": {
      "name": "python3",
      "display_name": "Python 3"
    },
    "language_info": {
      "name": "python"
    }
  },
  "cells": [
    {
      "cell_type": "markdown",
      "metadata": {
        "id": "view-in-github",
        "colab_type": "text"
      },
      "source": [
        "<a href=\"https://colab.research.google.com/github/JR27-py/clase_python_01/blob/main/tareas/Trabajo_Calificado_Misiones_de_C%C3%B3digo_Junior.ipynb\" target=\"_parent\"><img src=\"https://colab.research.google.com/assets/colab-badge.svg\" alt=\"Open In Colab\"/></a>"
      ]
    },
    {
      "cell_type": "markdown",
      "source": [
        "<img src=\"https://posgrado.utec.edu.pe/sites/default/files/2023-08/Testimonial-home-2.jpg\" alt=\"HTML5 Icon\" width=\"900\" height=\"250\" >\n"
      ],
      "metadata": {
        "id": "dYz-CyepUcRS"
      }
    },
    {
      "cell_type": "markdown",
      "source": [
        "# **Trabajo Calificado: Misiones de Código**"
      ],
      "metadata": {
        "id": "tYd6BiWgUfLo"
      }
    },
    {
      "cell_type": "markdown",
      "source": [
        "**Contexto:**\n",
        "\n",
        "Eres desarrollador de un Simulador de Aventuras llamado Pythonia, un entorno virtual de entrenamiento diseñado para mejorar tus habilidades de programación. En este simulador, enfrentarás una serie de desafíos basados en situaciones de videojuegos y escenarios de aventura, donde deberás aplicar estructuras lógicas, condicionales, bucles y funciones para resolver problemas.\n",
        "\n"
      ],
      "metadata": {
        "id": "GtjjVTFRU6W1"
      }
    },
    {
      "cell_type": "markdown",
      "source": [
        "Cada ejercicio representa un reto independiente que simula eventos comunes en el desarrollo de videojuegos, sistemas de simulación y lógica de juegos interactivos."
      ],
      "metadata": {
        "id": "Ggayz2SXVXjt"
      }
    },
    {
      "cell_type": "markdown",
      "source": [
        "**Recomendaciones:**\n",
        "\n",
        "Utilizar buenas prácticas: comentarios, entradas y salidas limpias.\n",
        "\n",
        "Uso de funciones donde sea necesario."
      ],
      "metadata": {
        "id": "eAL1_dscUjd_"
      }
    },
    {
      "cell_type": "markdown",
      "source": [
        "**Ejercicio 1: Elige tu personaje (Variables y Entrada/Salida)**\n",
        "\n",
        "Crea un programa que permita al jugador elegir su personaje entre Mago, Guerrero o Arquero. Según la elección, muestra un mensaje personalizado con las estadísticas iniciales (vida, poder, defensa)."
      ],
      "metadata": {
        "id": "YpxJc_PoVc4c"
      }
    },
    {
      "cell_type": "code",
      "source": [
        "## INICIO DE CÓDIGO\n",
        "personajes={'Mago':[70,100,50],'Guerrero':[80,100,100],'Arquero':[80,80,50]}\n",
        "#cada item contiene una lista con: vida, poder, defensa, en ese orden.\n",
        "pregunta=True\n",
        "while pregunta:\n",
        "  personaje=(input('Elige uno de estos personajes: Mago, Guerrero o Arquero ->')).title()\n",
        "  if personaje in personajes.keys():\n",
        "    pregunta=False\n",
        "    print(f'Tu personaje {personaje} tiene las siguientes características:')\n",
        "    print(f'Vida: {personajes[personaje][0]}')\n",
        "    print(f'Poder: {personajes[personaje][1]}')\n",
        "    print(f'Defensa: {personajes[personaje][2]}')\n",
        "  else:\n",
        "    print(\"Elige un personaje válido\")\n",
        "    print('-'*50)\n",
        "## FIN DE CÓDIGO"
      ],
      "metadata": {
        "id": "GZrzl-7wVfkW",
        "colab": {
          "base_uri": "https://localhost:8080/"
        },
        "outputId": "c151fb82-2485-49eb-eb86-718f9564064b"
      },
      "execution_count": null,
      "outputs": [
        {
          "output_type": "stream",
          "name": "stdout",
          "text": [
            "Elige uno de estos personajes: Mago, Guerrero o Arquero ->hola\n",
            "Elige un personaje válido\n",
            "--------------------------------------------------\n",
            "Elige uno de estos personajes: Mago, Guerrero o Arquero ->mago\n",
            "Tu personaje Mago tiene las siguientes características:\n",
            "Vida: 70\n",
            "Poder: 100\n",
            "Defensa: 50\n"
          ]
        }
      ]
    },
    {
      "cell_type": "markdown",
      "source": [
        "**Ejercicio 2: La prueba del sabio (Condicionales)**\n",
        "\n",
        "El sabio te hace una pregunta: si traes menos de 50 monedas de oro, te expulsará; si llevas entre 50 y 100, te permitirá pasar; si llevas más de 100, te dará una poción.\n",
        "Crea el programa que lea las monedas y muestre el resultado."
      ],
      "metadata": {
        "id": "kvoGwX-QVgPr"
      }
    },
    {
      "cell_type": "code",
      "execution_count": null,
      "metadata": {
        "id": "3tg6KSK-UbUw",
        "colab": {
          "base_uri": "https://localhost:8080/"
        },
        "outputId": "546a618a-2dc1-49ff-d719-f0e34fd725be"
      },
      "outputs": [
        {
          "output_type": "stream",
          "name": "stdout",
          "text": [
            "Hola soy el sabio, ¿cuántas monedas llevas? 120\n",
            "Wow, tienes muchas monedas! Te daré una poción de regalo, ingresa, por favor...\n"
          ]
        }
      ],
      "source": [
        "## INICIO DE CÓDIGO\n",
        "monedas=int(input('Hola soy el sabio, ¿cuántas monedas llevas? '))\n",
        "if monedas<50:\n",
        "  print('Tienes muy pocas monedas. Adios!!')\n",
        "elif monedas>= 50 and monedas <=100:\n",
        "  print('Tienes la cantidad de monedas permitidas para entrar. Ingresa, por favor...')\n",
        "else:\n",
        "  print('Wow, tienes muchas monedas! Te daré una poción de regalo, ingresa, por favor...')\n",
        "## FIN DE CÓDIGO"
      ]
    },
    {
      "cell_type": "markdown",
      "source": [
        "**Ejercicio 3: El puente infinito (Bucles While)**\n",
        "\n",
        "Diseña un programa que simule el cruce de un puente que cambia su estructura aleatoriamente. El jugador debe adivinar si el siguiente paso será seguro ('s') o peligroso ('p').\n",
        "El juego termina si el jugador elige 'salir' o si falla 3 veces."
      ],
      "metadata": {
        "id": "g7B02fWhVj4M"
      }
    },
    {
      "cell_type": "code",
      "source": [
        "## INICIO DE CÓDIGO\n",
        "import random\n",
        "salir=False\n",
        "lista_pasos=['s','p']\n",
        "while not salir:\n",
        "  print('Empieza el juego...')\n",
        "  adivina=input('Adivina el siguiente paso: s o p ')\n",
        "  if adivina == random.choice(lista_pasos):\n",
        "    print('Adivinaste!')\n",
        "  else:\n",
        "    print('Sigue intentando :(')\n",
        "  pregunta=input('Deseas salir?, digita s/n: ').lower()\n",
        "  if pregunta=='s':\n",
        "    salir=True\n",
        "## FIN DE CÓDIGO"
      ],
      "metadata": {
        "id": "9DRMWhDBVn71",
        "colab": {
          "base_uri": "https://localhost:8080/"
        },
        "outputId": "a96037b9-527f-4a55-9cf8-766179f71f9e"
      },
      "execution_count": null,
      "outputs": [
        {
          "name": "stdout",
          "output_type": "stream",
          "text": [
            "Empieza el juego...\n",
            "Adivina el siguiente paso: s o p s\n",
            "Sigue intentando :(\n",
            "Deseas salir?, digita s/n: n\n",
            "Empieza el juego...\n",
            "Adivina el siguiente paso: s o p p\n",
            "Adivinaste!\n",
            "Deseas salir?, digita s/n: s\n"
          ]
        }
      ]
    },
    {
      "cell_type": "markdown",
      "source": [
        "**Ejercicio 4: El laberinto secreto (Bucle For y Range)**\n",
        "\n",
        "Crea un programa que muestre una cuenta regresiva desde 10 hasta 1 al estilo nivel de escape del laberinto. Cada número debe ir acompañado de un mensaje tipo \"Quedan X segundos para escapar\"."
      ],
      "metadata": {
        "id": "66qKXQwTVoZG"
      }
    },
    {
      "cell_type": "code",
      "source": [
        "## INICIO DE CÓDIGO\n",
        "import time\n",
        "for i in range(10, 0, -1):\n",
        "  print(f'Quedan {i} segundos para escapar del laberinto...')\n",
        "  time.sleep(1)\n",
        "print('El tiempo ha finalizado!')\n",
        "## FIN DE CÓDIGO"
      ],
      "metadata": {
        "id": "i1S9WPmhVsEj",
        "colab": {
          "base_uri": "https://localhost:8080/"
        },
        "outputId": "43a52094-01e4-4297-ace5-81e3e10e8c1e"
      },
      "execution_count": null,
      "outputs": [
        {
          "output_type": "stream",
          "name": "stdout",
          "text": [
            "Quedan 10 segundos para escapar del laberinto...\n",
            "Quedan 9 segundos para escapar del laberinto...\n",
            "Quedan 8 segundos para escapar del laberinto...\n",
            "Quedan 7 segundos para escapar del laberinto...\n",
            "Quedan 6 segundos para escapar del laberinto...\n",
            "Quedan 5 segundos para escapar del laberinto...\n",
            "Quedan 4 segundos para escapar del laberinto...\n",
            "Quedan 3 segundos para escapar del laberinto...\n",
            "Quedan 2 segundos para escapar del laberinto...\n",
            "Quedan 1 segundos para escapar del laberinto...\n",
            "El tiempo ha finalizado!\n"
          ]
        }
      ]
    },
    {
      "cell_type": "markdown",
      "source": [
        "**Ejercicio 5: Cofres encantados (Break y Continue)**\n",
        "\n",
        "Simula 10 cofres cerrados, pero uno de ellos es una trampa explosiva (elige aleatoriamente una posición).\n",
        "El jugador abre cofres uno por uno:\n",
        "\n",
        "* Si encuentra la trampa, termina el juego (break).\n",
        "\n",
        "* Si encuentra cofres vacíos, continúa (continue).\n",
        "\n",
        "* Si abre todos sin explotar, gana."
      ],
      "metadata": {
        "id": "5dL6C-x1VsYf"
      }
    },
    {
      "cell_type": "code",
      "source": [
        "import random\n",
        "contador=0\n",
        "trampa = random.randint(1, 10)\n",
        "while contador<10:\n",
        "  contador+=1\n",
        "  respuesta=input(f'Quieres abrir el cofre {contador}? (s/n)')\n",
        "  if respuesta=='s':\n",
        "    if contador==trampa:\n",
        "      print('Perdiste, abriste la trampa explosiva!')\n",
        "      break\n",
        "    else:\n",
        "      print(f'El cofre {contador} está vacío')\n",
        "      continue\n",
        "  elif contador==10 and contador==trampa:\n",
        "    print('Ganaste!')\n",
        "    break\n",
        "\n",
        "  if contador==10:\n",
        "    print('Ganaste!')"
      ],
      "metadata": {
        "id": "X2gLHoysqKer",
        "colab": {
          "base_uri": "https://localhost:8080/"
        },
        "outputId": "8633a48d-8cfe-49c5-e640-66a7a67dafd8"
      },
      "execution_count": 39,
      "outputs": [
        {
          "output_type": "stream",
          "name": "stdout",
          "text": [
            "Quieres abrir el cofre 1? (s/n)n\n",
            "Quieres abrir el cofre 2? (s/n)s\n",
            "El cofre 2 está vacío\n",
            "Quieres abrir el cofre 3? (s/n)s\n",
            "El cofre 3 está vacío\n",
            "Quieres abrir el cofre 4? (s/n)s\n",
            "El cofre 4 está vacío\n",
            "Quieres abrir el cofre 5? (s/n)s\n",
            "Perdiste, abriste la trampa explosiva!\n"
          ]
        }
      ]
    },
    {
      "cell_type": "markdown",
      "source": [
        "**Ejercicio 6: Pociones mágicas (Funciones básicas)**\n",
        "\n",
        "Crea una función usar_pocion(tipo) que permita al jugador elegir entre 'vida', 'fuerza' o 'velocidad', y retorne el efecto de la poción.\n",
        "Luego, pide al usuario que elija una poción y muestra el resultado llamando a la función."
      ],
      "metadata": {
        "id": "94yOz-rKV2gp"
      }
    },
    {
      "cell_type": "code",
      "source": [
        "## INICIO DE CÓDIGO\n",
        "def usar_pocion(tipo):\n",
        "  ''' La función retorna el efecto de la poción.\n",
        "      Solo se puede elegir entre: vida, fuerza o velocidad '''\n",
        "  print(f'Has elegido la poción de {tipo}, esta te permite incrementar tu {tipo} en 20 puntos')\n",
        "\n",
        "usar_pocion(input('Elige una poción: vida, fuerza o velocidad (escribe la palabra completa):'))\n",
        "\n",
        "## FIN DE CÓDIGO"
      ],
      "metadata": {
        "id": "NQKm0w5iV4Zz",
        "colab": {
          "base_uri": "https://localhost:8080/"
        },
        "outputId": "81d974d5-743f-4852-e786-9ffdd301403b"
      },
      "execution_count": 41,
      "outputs": [
        {
          "output_type": "stream",
          "name": "stdout",
          "text": [
            "Elige una poción: vida, fuerza o velocidad (escribe la palabra completa):vida\n",
            "Has elegido la poción de vida, esta te permite incrementar tu vida en 20 puntos\n"
          ]
        }
      ]
    },
    {
      "cell_type": "markdown",
      "source": [
        "**Ejercicio 7: Calculadora de daño crítico (Funciones con parámetros)**\n",
        "\n",
        "Crea una función calcular_danio(base, critico) que reciba el daño base y un porcentaje de crítico, devolviendo el daño total.\n",
        "El usuario ingresará el daño base y el porcentaje crítico."
      ],
      "metadata": {
        "id": "Qdnbnm4nV44h"
      }
    },
    {
      "cell_type": "code",
      "source": [
        "## INICIO DE CÓDIGO\n",
        "def calcular_danio(base, critico):\n",
        "  ''' Ingresa Daño Base, y un porcentaje de critico, devuelve el daño total '''\n",
        "  print(f'El daño total es: {round(base*(1+(critico/100)),2)}')\n",
        "\n",
        "calcular_danio(int(input('Ingresa el daño base: ')), int(input('Ingresa el porcentaje de critico: ')))\n",
        "## FIN DE CÓDIGO"
      ],
      "metadata": {
        "id": "leaLQJWrV8Tx",
        "colab": {
          "base_uri": "https://localhost:8080/"
        },
        "outputId": "5452ae3a-a5f9-49a7-ae92-eefefb52701c"
      },
      "execution_count": 59,
      "outputs": [
        {
          "output_type": "stream",
          "name": "stdout",
          "text": [
            "Ingresa el daño base: 100\n",
            "Ingresa el porcentaje de critico: 10\n",
            "El daño total es: 110.0\n"
          ]
        }
      ]
    },
    {
      "cell_type": "markdown",
      "source": [
        "**Ejercicio 8: El desafío del dragón (Condicionales + funciones + bucles)**\n",
        "\n",
        "Diseña una función enfrentar_dragon(vida, fuerza) que simule el combate:\n",
        "\n",
        "* El jugador ataca al dragón y el dragón contraataca restando vida.\n",
        "\n",
        "* Si la vida llega a 0, el jugador pierde.\n",
        "\n",
        "* Si el jugador realiza 3 ataques consecutivos sin morir, gana.\n",
        "Usa un bucle while interno para el combate."
      ],
      "metadata": {
        "id": "d4j1ckE2V9ag"
      }
    },
    {
      "cell_type": "code",
      "source": [
        "## INICIO DE CÓDIGO\n",
        "def enfrentar_dragon(vida, fuerza):\n",
        "  ataques=0\n",
        "  while vida>0 and ataques<3:\n",
        "    '''El daño que el dragón le causa, es el 50% de la fuerza del jugador'''\n",
        "    vida-=fuerza*50/100\n",
        "    ataques+=1\n",
        "  if vida>0:\n",
        "    print('Ganaste el combate!')\n",
        "  else:\n",
        "    print('Perdiste el combate :(')\n",
        "\n",
        "enfrentar_dragon(int(input('Ingresa la vida del jugador: ')), int(input('Ingresa la fuerza del jugador: ')))\n",
        "## FIN DE CÓDIGO"
      ],
      "metadata": {
        "id": "_CGyWwuaWByi",
        "colab": {
          "base_uri": "https://localhost:8080/"
        },
        "outputId": "1d1bd471-e9f5-4080-f89f-812c5e5e5a37"
      },
      "execution_count": 61,
      "outputs": [
        {
          "output_type": "stream",
          "name": "stdout",
          "text": [
            "Ingresa la vida del jugador: 20\n",
            "Ingresa la fuerza del jugador: 20\n",
            "Perdiste el combate :(\n"
          ]
        }
      ]
    },
    {
      "cell_type": "markdown",
      "source": [
        "**Ejercicio 9: El camino del héroe (Recursividad sencilla)**\n",
        "\n",
        "Crea una función recursiva que simule el camino de un héroe cruzando N obstáculos, mostrando mensajes como:\n",
        "\n",
        "\"Obstáculo 3: saltando...\"\n",
        "\n",
        "Termina cuando N llegue a 0."
      ],
      "metadata": {
        "id": "8X5Y08fQWCFU"
      }
    },
    {
      "cell_type": "code",
      "source": [
        "## INICIO DE CÓDIGO\n",
        "def camino_heroe(obstaculos):\n",
        "  if obstaculos>0:\n",
        "    print(f'Obstáculo {obstaculos}: saltando...')\n",
        "    camino_heroe(obstaculos-1)\n",
        "  else:\n",
        "    print('Llegaste al final!')\n",
        "\n",
        "camino_heroe(int(input('Ingresa el número de obstáculos: ')))\n",
        "## FIN DE CÓDIGO"
      ],
      "metadata": {
        "id": "vVDjZHSVWJdQ",
        "colab": {
          "base_uri": "https://localhost:8080/"
        },
        "outputId": "10a3c0ab-3ebd-4d63-85d5-7c4deaa5255d"
      },
      "execution_count": 64,
      "outputs": [
        {
          "output_type": "stream",
          "name": "stdout",
          "text": [
            "Ingresa el número de obstáculos: 3\n",
            "Obstáculo 3: saltando...\n",
            "Obstáculo 2: saltando...\n",
            "Obstáculo 1: saltando...\n",
            "Llegaste al final!\n"
          ]
        }
      ]
    },
    {
      "cell_type": "markdown",
      "source": [
        "**Ejercicio 10: Torre de los hechizos (Reto Integrador Final)**\n",
        "\n",
        "Crea un programa completo que combine:\n",
        "\n",
        "* Elección de personaje.\n",
        "\n",
        "* Simulación de un combate contra un enemigo con vida y defensa.\n",
        "\n",
        "* Uso de funciones para calcular el daño.\n",
        "\n",
        "* Bucles para turnos de combate.\n",
        "\n",
        "* Uso de una función recursiva que simule las rondas como niveles (nivel 1, 2, 3 hasta ganar).\n",
        "\n"
      ],
      "metadata": {
        "id": "Behbpl_8WJzR"
      }
    },
    {
      "cell_type": "code",
      "source": [
        "## INICIO DE CÓDIGO\n",
        "import random\n",
        "\n",
        "#cada item contiene una lista con: vida, poder, defensa, en ese orden.\n",
        "personajes={'Mago':[100,90,50],'Guerrero':[80,100,70],'Arquero':[80,80,50]}\n",
        "\n",
        "def caracteristicas(personaje):\n",
        "  pregunta=True\n",
        "  while pregunta:\n",
        "    if personaje.title() in personajes.keys():\n",
        "      pregunta=False\n",
        "      print(f'Tu personaje {personaje} tiene las siguientes características:')\n",
        "      print(f'Vida: {personajes[personaje][0]}')\n",
        "      print(f'Poder: {personajes[personaje][1]}')\n",
        "      print(f'Defensa: {personajes[personaje][2]}')\n",
        "    else:\n",
        "      print(\"Elige un personaje válido\")\n",
        "      print('-'*50)\n",
        "\n",
        "def calcular_danio(vida1,poder1,defensa1,vida2,poder2,defensa2):\n",
        "  danio1=poder1-defensa2\n",
        "  danio2=poder2-defensa1\n",
        "  if danio1<0:\n",
        "    danio1=0\n",
        "  else:\n",
        "    vida2-=danio1\n",
        "  if danio2<0:\n",
        "    danio2=0\n",
        "  else:\n",
        "    vida1-=danio2\n",
        "  return vida1,vida2\n",
        "\n",
        "def combate(personaje1,nro_rondas):\n",
        "  personaje2=random.choice(list(personajes.keys()))\n",
        "  print(f'Tu personaje es {personaje1} y tu oponente es {personaje2}')\n",
        "  ronda=0\n",
        "  while ronda<nro_rondas:\n",
        "    ronda+=1\n",
        "    #print(f'Ronda {ronda}')\n",
        "    vida1,vida2=calcular_danio(personajes[personaje1][0],personajes[personaje1][1],personajes[personaje1][2],\n",
        "                               personajes[personaje2][0],personajes[personaje2][1],personajes[personaje2][2])\n",
        "    personajes[personaje1][0]=vida1\n",
        "    personajes[personaje2][0]=vida2\n",
        "    print(f'Vida de {personaje1}: {personajes[personaje1][0]}')\n",
        "    print(f'Vida de {personaje2}: {personajes[personaje2][0]}')\n",
        "    if vida1==0 and vida2==0:\n",
        "      print('Empate')\n",
        "      break\n",
        "    if vida1<=0 or vida2<=0:\n",
        "      if vida1<=0:\n",
        "        print(f'{personaje1} ha muerto, ganó {personaje2}')\n",
        "      else:\n",
        "        print(f'{personaje2} ha muerto, ganó {personaje1}')\n",
        "      break\n",
        "\n",
        "### EMPIEZA EL JUEGO\n",
        "print('Bienvenido al Juego Pythonia!')\n",
        "print('='*100)\n",
        "print('En este juego podrás elegir entre 3 personajes para que puedan combatir entre sí, primero te recomendaría que revises sus características:')\n",
        "while True:\n",
        "  pregunta=input('¿Quieres ver las características de los personajes? (s/n): ').lower()\n",
        "  print('-'*50)\n",
        "  if pregunta=='s':\n",
        "    caracteristicas(input('Elige uno de estos personajes: Mago, Guerrero o Arquero ->').title())\n",
        "  else:\n",
        "    print('Ahora sí que empiece el juego!')\n",
        "    break\n",
        "print('-'*50)\n",
        "\n",
        "\n",
        "combate(input('Elige uno de estos personajes: Mago, Guerrero o Arquero ->').title(),\n",
        "        int(input('Ingresa el número de rondas: ')))\n",
        "## FIN DE CÓDIGO"
      ],
      "metadata": {
        "id": "smtLq1SDWTJd",
        "colab": {
          "base_uri": "https://localhost:8080/"
        },
        "outputId": "0f6b8a88-0641-4ee2-8d65-4a5fa7be3302"
      },
      "execution_count": 76,
      "outputs": [
        {
          "output_type": "stream",
          "name": "stdout",
          "text": [
            "Bienvenido al Juego Pythonia!\n",
            "====================================================================================================\n",
            "En este juego podrás elegir entre 3 personajes para que puedan combatir entre sí, primero te recomendaría que revises sus características:\n",
            "¿Quieres ver las características de los personajes? (s/n): n\n",
            "--------------------------------------------------\n",
            "Ahora sí que empiece el juego!\n",
            "--------------------------------------------------\n",
            "Elige uno de estos personajes: Mago, Guerrero o Arquero ->arquero\n",
            "Ingresa el número de rondas: 2\n",
            "Tu personaje es Arquero y tu oponente es Guerrero\n",
            "Ronda 1\n",
            "Vida de Arquero: 30\n",
            "Vida de Guerrero: 70\n",
            "Ronda 2\n",
            "Vida de Arquero: -20\n",
            "Vida de Guerrero: 60\n",
            "Arquero ha muerto, ganó Guerrero\n"
          ]
        }
      ]
    },
    {
      "cell_type": "markdown",
      "source": [
        "---\n",
        "\n",
        "# Gracias por completar este laboratorio!\n",
        "\n",
        "---\n"
      ],
      "metadata": {
        "id": "EONqoa25Wlx3"
      }
    }
  ]
}