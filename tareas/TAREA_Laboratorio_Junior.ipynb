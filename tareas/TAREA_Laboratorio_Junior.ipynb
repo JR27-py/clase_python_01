{
  "nbformat": 4,
  "nbformat_minor": 0,
  "metadata": {
    "colab": {
      "provenance": [],
      "include_colab_link": true
    },
    "kernelspec": {
      "name": "python3",
      "display_name": "Python 3"
    },
    "language_info": {
      "name": "python"
    }
  },
  "cells": [
    {
      "cell_type": "markdown",
      "metadata": {
        "id": "view-in-github",
        "colab_type": "text"
      },
      "source": [
        "<a href=\"https://colab.research.google.com/github/JR27-py/clase_python_01/blob/main/tareas/TAREA_Laboratorio_Junior.ipynb\" target=\"_parent\"><img src=\"https://colab.research.google.com/assets/colab-badge.svg\" alt=\"Open In Colab\"/></a>"
      ]
    },
    {
      "cell_type": "markdown",
      "source": [
        "# Listas"
      ],
      "metadata": {
        "id": "NC_iRWcEhNSv"
      }
    },
    {
      "cell_type": "markdown",
      "source": [
        "Ejercicio 1\n",
        "\n",
        "Crear una lista con los nombres de 5 bancos."
      ],
      "metadata": {
        "id": "IxkzijV9gnqx"
      }
    },
    {
      "cell_type": "code",
      "source": [
        "bancos = [\"BCP\", \"INTERBANK\", \"PICHINCHA\", \"BBVA\", \"FALABELLA\"]\n"
      ],
      "metadata": {
        "id": "sDlZExpSdZis"
      },
      "execution_count": null,
      "outputs": []
    },
    {
      "cell_type": "markdown",
      "source": [
        "Ejercicio 2\n",
        "\n",
        "Acceder al tercer banco de la lista."
      ],
      "metadata": {
        "id": "2d57HxBKgtdO"
      }
    },
    {
      "cell_type": "code",
      "source": [
        "bancos [2]"
      ],
      "metadata": {
        "colab": {
          "base_uri": "https://localhost:8080/",
          "height": 36
        },
        "id": "q_va08sJeti7",
        "outputId": "eb6f2c92-935a-467e-dc15-2c6dc42876d5"
      },
      "execution_count": null,
      "outputs": [
        {
          "output_type": "execute_result",
          "data": {
            "text/plain": [
              "'PICHINCHA'"
            ],
            "application/vnd.google.colaboratory.intrinsic+json": {
              "type": "string"
            }
          },
          "metadata": {},
          "execution_count": 2
        }
      ]
    },
    {
      "cell_type": "markdown",
      "source": [
        "Ejercicio 3\n",
        "\n",
        "Agregar un nuevo banco a la lista."
      ],
      "metadata": {
        "id": "r3av9R2Ygv2T"
      }
    },
    {
      "cell_type": "code",
      "source": [
        "bancos.append(\"RIPLEY\")\n",
        "print(bancos)"
      ],
      "metadata": {
        "colab": {
          "base_uri": "https://localhost:8080/"
        },
        "id": "NYIK_NLGfBGH",
        "outputId": "a8700b4e-1202-4fdb-a997-a5e667965626"
      },
      "execution_count": null,
      "outputs": [
        {
          "output_type": "stream",
          "name": "stdout",
          "text": [
            "['BCP', 'INTERBANK', 'PICHINCHA', 'BBVA', 'FALABELLA', 'RIPLEY']\n"
          ]
        }
      ]
    },
    {
      "cell_type": "markdown",
      "source": [
        "Ejercicio 4\n",
        "\n",
        "Eliminar el segundo banco."
      ],
      "metadata": {
        "id": "mCi9Qu0lhA7E"
      }
    },
    {
      "cell_type": "code",
      "source": [
        "del bancos[1]\n",
        "print(bancos)"
      ],
      "metadata": {
        "colab": {
          "base_uri": "https://localhost:8080/"
        },
        "id": "CMpQMAxdfTCU",
        "outputId": "75537eed-59a6-4627-e886-ca5a892edb26"
      },
      "execution_count": null,
      "outputs": [
        {
          "output_type": "stream",
          "name": "stdout",
          "text": [
            "['BCP', 'PICHINCHA', 'BBVA', 'FALABELLA', 'RIPLEY']\n"
          ]
        }
      ]
    },
    {
      "cell_type": "markdown",
      "source": [
        "Ejercicio 5\n",
        "\n",
        "Ordenar alfabéticamente los bancos."
      ],
      "metadata": {
        "id": "he1Ai2YahGpE"
      }
    },
    {
      "cell_type": "code",
      "source": [
        "bancos.sort()\n",
        "print (bancos)"
      ],
      "metadata": {
        "colab": {
          "base_uri": "https://localhost:8080/"
        },
        "id": "TRtVfbOAg3ul",
        "outputId": "da4c7554-4797-418d-8988-83e65d1e82d2"
      },
      "execution_count": null,
      "outputs": [
        {
          "output_type": "stream",
          "name": "stdout",
          "text": [
            "['BBVA', 'BCP', 'FALABELLA', 'PICHINCHA', 'RIPLEY']\n"
          ]
        }
      ]
    },
    {
      "cell_type": "markdown",
      "source": [
        "# Condicionales IF, ELIF, ELSE"
      ],
      "metadata": {
        "id": "VpT6gNZ2hj1O"
      }
    },
    {
      "cell_type": "markdown",
      "source": [
        "Ejercicio 1\n",
        "\n",
        "Verificar si un cliente tiene ingreso > 3000."
      ],
      "metadata": {
        "id": "kv91XOyphovd"
      }
    },
    {
      "cell_type": "code",
      "source": [
        "ingreso_mensual = int(input (\"Ingrese su ingreso mensual: \"))\n",
        "if ingreso_mensual > 3000:\n",
        "  print (\"El cliente tiene ingreso mayor a 3000 soles\")\n",
        "else:\n",
        "  print (\"El cliente no tiene ingreso mayor a 3000 soles\")\n"
      ],
      "metadata": {
        "colab": {
          "base_uri": "https://localhost:8080/"
        },
        "id": "UU08jBGyhZi_",
        "outputId": "5f5486bc-193c-486f-b24b-9e7f79429fd4"
      },
      "execution_count": null,
      "outputs": [
        {
          "output_type": "stream",
          "name": "stdout",
          "text": [
            "Ingrese su ingreso mensual: 5000\n",
            "El cliente tiene ingreso mayor a 3000 soles\n"
          ]
        }
      ]
    },
    {
      "cell_type": "markdown",
      "source": [
        "Ejercicio 2\n",
        "\n",
        "Evaluar edad para otorgar tarjeta de crédito."
      ],
      "metadata": {
        "id": "n1X-A7oNhr4z"
      }
    },
    {
      "cell_type": "code",
      "source": [
        "edad = int(input(\"Ingrese su edad: \"))\n",
        "if edad >= 20:\n",
        "  print (\"El cliente tiene derecho a una tarjeta de crédito\")\n",
        "else:\n",
        "  print (\"El cliente no tiene derecho a una tarjeta de crédito\")"
      ],
      "metadata": {
        "colab": {
          "base_uri": "https://localhost:8080/"
        },
        "id": "o6nOto2JiNfK",
        "outputId": "71a31fe0-979e-4178-f03c-d832d91f649f"
      },
      "execution_count": null,
      "outputs": [
        {
          "output_type": "stream",
          "name": "stdout",
          "text": [
            "Ingrese su edad: 20\n",
            "El cliente tiene derecho a una tarjeta de crédito\n"
          ]
        }
      ]
    },
    {
      "cell_type": "markdown",
      "source": [
        "Ejercicio 3\n",
        "\n",
        "Evaluar un score de crédito."
      ],
      "metadata": {
        "id": "PiDQUQ05htq2"
      }
    },
    {
      "cell_type": "code",
      "source": [
        "if ingreso_mensual >= 3000 and edad >= 20:\n",
        "  print(\"tiene buen score\")\n",
        "else:\n",
        "  print(\"tiene un score regular\")"
      ],
      "metadata": {
        "colab": {
          "base_uri": "https://localhost:8080/"
        },
        "id": "5TjO-KJtiyg-",
        "outputId": "8755431a-8c5f-4941-e488-b6ad6393f86c"
      },
      "execution_count": null,
      "outputs": [
        {
          "output_type": "stream",
          "name": "stdout",
          "text": [
            "tiene buen score\n"
          ]
        }
      ]
    },
    {
      "cell_type": "markdown",
      "source": [
        "Ejercicio 4\n",
        "\n",
        "Verificar si una cuenta tiene saldo negativo."
      ],
      "metadata": {
        "id": "xoT9xGBph1M_"
      }
    },
    {
      "cell_type": "code",
      "source": [
        "saldo = int(input (\"Ingrese su saldo: \"))\n",
        "if saldo < 0:\n",
        "  print (\"El cliente tiene saldo negativo\")\n",
        "else:\n",
        "  print (\"El cliente no tiene saldo negativo\")"
      ],
      "metadata": {
        "colab": {
          "base_uri": "https://localhost:8080/"
        },
        "id": "6BpnQfuPjfiJ",
        "outputId": "c2aba926-0478-480c-c355-cb6b515b1290"
      },
      "execution_count": null,
      "outputs": [
        {
          "output_type": "stream",
          "name": "stdout",
          "text": [
            "Ingrese su saldo: -10\n",
            "El cliente tiene saldo negativo\n"
          ]
        }
      ]
    },
    {
      "cell_type": "markdown",
      "source": [
        "Ejercicio 5\n",
        "\n",
        "Comparar dos tasas de interés."
      ],
      "metadata": {
        "id": "hLB_ZRjth5cJ"
      }
    },
    {
      "cell_type": "code",
      "source": [
        "tasa_1 = int(input (\"Ingrese la primera tasa de interés: \"))\n",
        "tasa_2 = int(input (\"Ingrese la segunda tasa de interés: \"))\n",
        "if tasa_1 > tasa_2:\n",
        "  print (\"La primera tasa de interés es mayor a la segunda\")\n",
        "elif tasa_1 < tasa_2:\n",
        "    print (\"La segunda tasa de interés es mayor a la primera\")\n",
        "else:\n",
        "      print (\"Las tasas son iguales\")"
      ],
      "metadata": {
        "colab": {
          "base_uri": "https://localhost:8080/"
        },
        "id": "pf3i4ysCjxW5",
        "outputId": "fc1abb4c-9f81-43ac-e58c-75853fb4c4ef"
      },
      "execution_count": null,
      "outputs": [
        {
          "output_type": "stream",
          "name": "stdout",
          "text": [
            "Ingrese la primera tasa de interés: 10\n",
            "Ingrese la segunda tasa de interés: 20\n",
            "La segunda tasa de interés es mayor a la primera\n"
          ]
        }
      ]
    },
    {
      "cell_type": "markdown",
      "source": [
        "Ejercicio 6\n",
        "\n",
        "Evaluar si un cliente tiene más de 3 productos financieros."
      ],
      "metadata": {
        "id": "ORVVt26mh8dt"
      }
    },
    {
      "cell_type": "code",
      "source": [
        "numero_productos = int(input (\"Ingrese el número de productos: \"))\n",
        "if numero_productos > 3:\n",
        "  print (\"El cliente tiene más de 3 productos\")\n",
        "else:\n",
        "  print (\"El cliente no tiene más de 3 productos\")"
      ],
      "metadata": {
        "colab": {
          "base_uri": "https://localhost:8080/"
        },
        "id": "JnLW9oX8k0eS",
        "outputId": "02f25979-69b6-43e7-a828-5f6f9df18291"
      },
      "execution_count": null,
      "outputs": [
        {
          "output_type": "stream",
          "name": "stdout",
          "text": [
            "Ingrese el número de productos: 10\n",
            "El cliente tiene más de 3 productos\n"
          ]
        }
      ]
    },
    {
      "cell_type": "markdown",
      "source": [
        "Ejercicio 7\n",
        "\n",
        "Determinar si un monto depositado supera los 10,000."
      ],
      "metadata": {
        "id": "naW4x0QLh_SV"
      }
    },
    {
      "cell_type": "code",
      "source": [
        "monto_depositado = int(input (\"Ingrese el monto depositado: \"))\n",
        "if monto_depositado > 10000:\n",
        "  print (\"El monto depositado supera los 10,000 soles\")\n",
        "else:\n",
        "    print (\"El monto depositado no supera los 10,000 soles\")"
      ],
      "metadata": {
        "colab": {
          "base_uri": "https://localhost:8080/"
        },
        "id": "pKX0bm2blIdf",
        "outputId": "62082e90-d864-485e-8bb6-1e72add02727"
      },
      "execution_count": null,
      "outputs": [
        {
          "output_type": "stream",
          "name": "stdout",
          "text": [
            "Ingrese el monto depositado: 5000\n",
            "El monto depositado no supera los 10,000 soles\n"
          ]
        }
      ]
    },
    {
      "cell_type": "markdown",
      "source": [
        "# **Diccionarios**"
      ],
      "metadata": {
        "id": "V7WW7fIGioVg"
      }
    },
    {
      "cell_type": "markdown",
      "source": [
        "Ejercicio 1\n",
        "\n",
        "Crear un diccionario con datos de un cliente."
      ],
      "metadata": {
        "id": "CHwNqNtNisgi"
      }
    },
    {
      "cell_type": "code",
      "source": [
        "clientes = {\"nombre\": \"Jr\", \"edad\": 30, \"saldo\": 1000}"
      ],
      "metadata": {
        "id": "fO5WqHGjlWGj"
      },
      "execution_count": null,
      "outputs": []
    },
    {
      "cell_type": "markdown",
      "source": [
        "Ejercicio 2\n",
        "\n",
        "Acceder al saldo del cliente."
      ],
      "metadata": {
        "id": "y79prRhxivr3"
      }
    },
    {
      "cell_type": "code",
      "source": [
        "clientes[\"saldo\"]"
      ],
      "metadata": {
        "colab": {
          "base_uri": "https://localhost:8080/"
        },
        "id": "zGspmQFHlga7",
        "outputId": "eddfe523-74ea-4304-fdbe-59607617e355"
      },
      "execution_count": null,
      "outputs": [
        {
          "output_type": "execute_result",
          "data": {
            "text/plain": [
              "1000"
            ]
          },
          "metadata": {},
          "execution_count": 15
        }
      ]
    },
    {
      "cell_type": "markdown",
      "source": [
        "Ejercicio 3\n",
        "\n",
        "Modificar el saldo."
      ],
      "metadata": {
        "id": "WPMXW--eiy7n"
      }
    },
    {
      "cell_type": "code",
      "source": [
        "clientes [\"saldo\"] = 3000\n",
        "print (clientes)"
      ],
      "metadata": {
        "colab": {
          "base_uri": "https://localhost:8080/"
        },
        "id": "qrbkh6ODmZ_m",
        "outputId": "4e222ce6-5386-4387-e063-bedde183e19d"
      },
      "execution_count": null,
      "outputs": [
        {
          "output_type": "stream",
          "name": "stdout",
          "text": [
            "{'nombre': 'Jr', 'edad': 30, 'saldo': 3000}\n"
          ]
        }
      ]
    },
    {
      "cell_type": "markdown",
      "source": [
        "Ejercicio 4\n",
        "\n",
        "Agregar una nueva llave 'tarjeta_credito'."
      ],
      "metadata": {
        "id": "xN7U259_i0SD"
      }
    },
    {
      "cell_type": "code",
      "source": [
        "clientes [\"tarjeta_credito\"] = True\n",
        "print (clientes)"
      ],
      "metadata": {
        "colab": {
          "base_uri": "https://localhost:8080/"
        },
        "id": "Z3GekOummlSh",
        "outputId": "11938a95-f96e-4e4d-f705-c1d8cb33a9e6"
      },
      "execution_count": null,
      "outputs": [
        {
          "output_type": "stream",
          "name": "stdout",
          "text": [
            "{'nombre': 'Jr', 'edad': 30, 'saldo': 3000, 'tarjeta_credito': True}\n"
          ]
        }
      ]
    },
    {
      "cell_type": "markdown",
      "source": [
        "Ejercicio 5\n",
        "\n",
        "Eliminar el nombre del cliente."
      ],
      "metadata": {
        "id": "EhsIdR2wi2MR"
      }
    },
    {
      "cell_type": "code",
      "source": [
        "del clientes [\"nombre\"]\n",
        "print (clientes)"
      ],
      "metadata": {
        "colab": {
          "base_uri": "https://localhost:8080/"
        },
        "id": "6uthm-CGm0Ym",
        "outputId": "0a8cb707-7ea1-4ee9-9763-f992a6b762d5"
      },
      "execution_count": null,
      "outputs": [
        {
          "output_type": "stream",
          "name": "stdout",
          "text": [
            "{'edad': 30, 'saldo': 3000, 'tarjeta_credito': True}\n"
          ]
        }
      ]
    },
    {
      "cell_type": "markdown",
      "source": [
        "# FOR"
      ],
      "metadata": {
        "id": "SEZ-ENCGi45b"
      }
    },
    {
      "cell_type": "markdown",
      "source": [
        "Ejercicio 1\n",
        "\n",
        "Recorrer una lista de tasas de interés."
      ],
      "metadata": {
        "id": "UIibjV-Ti8kG"
      }
    },
    {
      "cell_type": "code",
      "source": [
        "tasas_de_interes = [2.5,3,4.5,8]\n",
        "for tasa in tasas_de_interes:\n",
        "  print (tasa)"
      ],
      "metadata": {
        "colab": {
          "base_uri": "https://localhost:8080/"
        },
        "id": "DytsVrDcnInm",
        "outputId": "81440cc9-c643-4b3e-e556-fec53237a8b3"
      },
      "execution_count": null,
      "outputs": [
        {
          "output_type": "stream",
          "name": "stdout",
          "text": [
            "2.5\n",
            "3\n",
            "4.5\n",
            "8\n"
          ]
        }
      ]
    },
    {
      "cell_type": "markdown",
      "source": [
        "Ejercicio 2\n",
        "\n",
        "Sumar todos los saldos de una lista."
      ],
      "metadata": {
        "id": "xJcFuGJ-i_OZ"
      }
    },
    {
      "cell_type": "code",
      "source": [
        "saldos = [1000,2000,3000,4000,5000]\n",
        "suma_saldos = 0\n",
        "for saldo in saldos:\n",
        "  suma_saldos += saldo\n",
        "print (suma_saldos)"
      ],
      "metadata": {
        "colab": {
          "base_uri": "https://localhost:8080/"
        },
        "id": "f4XTCxEEnteT",
        "outputId": "d32c438d-035d-43e2-8c97-c34af842ac75"
      },
      "execution_count": null,
      "outputs": [
        {
          "output_type": "stream",
          "name": "stdout",
          "text": [
            "15000\n"
          ]
        }
      ]
    },
    {
      "cell_type": "markdown",
      "source": [
        "Ejercicio 3\n",
        "\n",
        "Recorrer una lista de precios de productos ecommerce y aplicar descuento de 10%."
      ],
      "metadata": {
        "id": "VrNKApKTjBYl"
      }
    },
    {
      "cell_type": "code",
      "source": [
        "precios = [100,1000,600,500]\n",
        "for precio in precios:\n",
        "  precio_con_descuento = precio * 0.9\n",
        "  print (precio_con_descuento)"
      ],
      "metadata": {
        "colab": {
          "base_uri": "https://localhost:8080/"
        },
        "id": "kOfXP6sOoS0l",
        "outputId": "21db9128-f0ff-472a-8732-47d64d6a8f6d"
      },
      "execution_count": null,
      "outputs": [
        {
          "output_type": "stream",
          "name": "stdout",
          "text": [
            "90.0\n",
            "900.0\n",
            "540.0\n",
            "450.0\n"
          ]
        }
      ]
    },
    {
      "cell_type": "markdown",
      "source": [
        "Ejercicio 4\n",
        "\n",
        "Contar cuántos productos tienen un precio mayor a 100."
      ],
      "metadata": {
        "id": "LLFjbn2KjDvf"
      }
    },
    {
      "cell_type": "code",
      "source": [
        "count = 0\n",
        "for precio in precios:\n",
        "  if precio > 100:\n",
        "    count += 1\n",
        "print (count)"
      ],
      "metadata": {
        "colab": {
          "base_uri": "https://localhost:8080/"
        },
        "id": "D6I28w4-oWVw",
        "outputId": "71694c3e-3d76-445b-cb1b-feb025cbb254"
      },
      "execution_count": null,
      "outputs": [
        {
          "output_type": "stream",
          "name": "stdout",
          "text": [
            "3\n"
          ]
        }
      ]
    },
    {
      "cell_type": "markdown",
      "source": [
        "Ejercicio 5\n",
        "\n",
        "Recorrer campañas de marketing y mostrar su nombre."
      ],
      "metadata": {
        "id": "Sx866gLnjGL3"
      }
    },
    {
      "cell_type": "code",
      "source": [
        "campañas_marketing = [\"campaña all in one\", \"campaña google\", \"campaña facebook\"]\n",
        "for campaña in campañas_marketing:\n",
        "  print (campaña)"
      ],
      "metadata": {
        "colab": {
          "base_uri": "https://localhost:8080/"
        },
        "id": "kC0_b7F-pN1B",
        "outputId": "07d14adc-7394-4320-873d-d6c44c68863d"
      },
      "execution_count": null,
      "outputs": [
        {
          "output_type": "stream",
          "name": "stdout",
          "text": [
            "campaña all in one\n",
            "campaña google\n",
            "campaña facebook\n"
          ]
        }
      ]
    },
    {
      "cell_type": "markdown",
      "source": [
        "Ejercicio 6\n",
        "\n",
        "Recorrer un diccionario de clientes con saldo y mostrar solo los que tengan saldo > 2000."
      ],
      "metadata": {
        "id": "QahT6s0IjIOv"
      }
    },
    {
      "cell_type": "code",
      "source": [
        "saldos = {\"Juanito\": 1000, \"Pepito\": 2000, \"Marquitos\": 3000, \"Luchito\": 4000}\n",
        "for cliente, saldo in saldos.items():\n",
        "  if saldo > 2000:\n",
        "    print (cliente)"
      ],
      "metadata": {
        "colab": {
          "base_uri": "https://localhost:8080/"
        },
        "id": "NKpi-pzUpnBg",
        "outputId": "3bf94ebf-2e92-4afa-c6e9-014736e04edc"
      },
      "execution_count": null,
      "outputs": [
        {
          "output_type": "stream",
          "name": "stdout",
          "text": [
            "Marquitos\n",
            "Luchito\n"
          ]
        }
      ]
    },
    {
      "cell_type": "markdown",
      "source": [
        "Ejercicio 7\n",
        "\n",
        "Recorrer una lista de emails de clientes y contar los que terminan en \"@gmail.com\"."
      ],
      "metadata": {
        "id": "2rTlLwQ_jL5s"
      }
    },
    {
      "cell_type": "markdown",
      "source": [
        "# Mini Proyecto\n",
        "\n",
        "\"Evaluador de Clientes Hipotecarios\""
      ],
      "metadata": {
        "id": "FMUBc06ojTaq"
      }
    },
    {
      "cell_type": "markdown",
      "source": [
        "Contexto:\n",
        "Un banco quiere evaluar a sus clientes para ofrecerles un nuevo crédito hipotecario.\n",
        "Cada cliente tiene datos como: nombre, ingreso mensual, deudas actuales y número de productos contratados.\n",
        "\n",
        "Objetivo:\n",
        "1. Crear la base de datos de clientes usando un diccionario.\n",
        "2. Usar for para recorrer todos los clientes.\n",
        "3. Aplicar condicionales para clasificar:\n",
        "   - \"Elegible\" si su ingreso anual es mayor a 36,000 soles, sus deudas son menores a 15,000 soles y tiene al menos 2 productos contratados.\n",
        "   - \"Requiere Evaluación\" si cumple solo algunas condiciones.\n",
        "   - \"No Elegible\" si no cumple ninguna condición.\n",
        "4. Mostrar el resultado bien formateado por cliente."
      ],
      "metadata": {
        "id": "UawN6JC7jXAE"
      }
    },
    {
      "cell_type": "markdown",
      "source": [
        "Instrucciones\n",
        "\n",
        "1. Crea un diccionario llamado clientes con al menos 5 clientes.\n",
        "2. Cada cliente tendrá:\n",
        "   - Nombre (str)\n",
        "   - Ingreso mensual (float)\n",
        "   - Deudas (float)\n",
        "   - Número de productos contratados (int)\n",
        "3. Calcula el ingreso anual (ingreso mensual × 12).\n",
        "4. Usa un for para recorrer cada cliente.\n",
        "5. Usa if, elif, else para clasificarlo en una de las tres categorías.\n",
        "6. Muestra en pantalla: Cliente: {nombre} - Resultado: {clasificación}"
      ],
      "metadata": {
        "id": "cO8ajcixjnWX"
      }
    },
    {
      "cell_type": "markdown",
      "source": [
        "# 🔥 Nivel extra:\n",
        "\n",
        "1. Ingresa manualmente los clientes (input).\n",
        "2. Calcula la diferencia absoluta (abs) entre ingreso anual y deudas.\n",
        "3. Redondea (round) el ingreso anual al número entero más cercano."
      ],
      "metadata": {
        "id": "5ZCQkJxkkDGj"
      }
    }
  ]
}